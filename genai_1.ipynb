{
  "nbformat": 4,
  "nbformat_minor": 0,
  "metadata": {
    "colab": {
      "provenance": [],
      "authorship_tag": "ABX9TyPugviZgmhofEUXuqOCLioZ",
      "include_colab_link": true
    },
    "kernelspec": {
      "name": "python3",
      "display_name": "Python 3"
    },
    "language_info": {
      "name": "python"
    }
  },
  "cells": [
    {
      "cell_type": "markdown",
      "metadata": {
        "id": "view-in-github",
        "colab_type": "text"
      },
      "source": [
        "<a href=\"https://colab.research.google.com/github/kameshcodes/Generative-AI-Learnings/blob/main/genai_1.ipynb\" target=\"_parent\"><img src=\"https://colab.research.google.com/assets/colab-badge.svg\" alt=\"Open In Colab\"/></a>"
      ]
    },
    {
      "cell_type": "markdown",
      "source": [
        "$$\\textbf{Roadmap of Large Language Model}$$\n",
        "\n",
        "---\n",
        "\n",
        "# **Q. What is Generative AI ?**\n",
        "\n",
        "- Generative AI are the class of artificial intelligence models **designed to generate new data that resembles a given dataset**.\n",
        "\n",
        "- Generative AI models aim to understand the underlying distribution of the input data and use this understanding to produce realistic samples that were never present in the dataset."
      ],
      "metadata": {
        "id": "cb2yTYHoE4h0"
      }
    },
    {
      "cell_type": "markdown",
      "source": [
        "**Type of Generation**\n",
        "- image to image generation\n",
        "- text to image generation\n",
        "- text to text generation\n",
        "- image to text generation"
      ],
      "metadata": {
        "id": "c-8TJIT3F__V"
      }
    },
    {
      "cell_type": "markdown",
      "source": [
        "**Type of Generative AI**\n",
        "- Generation Image Model - GANs, Diffusion Models etc\n",
        "- Generative Language Model - Transformers, Bert etc"
      ],
      "metadata": {
        "id": "fsSU-7_-GcWO"
      }
    },
    {
      "cell_type": "markdown",
      "source": [
        "**Basics of NLP**"
      ],
      "metadata": {
        "id": "ayn0ZdCSHoHK"
      }
    },
    {
      "cell_type": "markdown",
      "source": [
        "- Text Preprocessing: lowering, stopwords, stemming, lemmitization etc\n",
        "- Text Encoding\n",
        "\n",
        "  - Frequency Based: BOW, TF-IDF\n",
        "  - Non-Frequency Based: One-hot Encoding, Word-Embeddings\n",
        "\n",
        "- Word Embeddings\n",
        "  - Word2Vec\n",
        "  - Glove\n",
        "  - FastText"
      ],
      "metadata": {
        "id": "Qs2KZq8AH0ZH"
      }
    },
    {
      "cell_type": "markdown",
      "source": [
        "**Important Models to Know**\n",
        "- RNN, LSTM, GRU, Encoder-Decoder\n",
        "- Transformers, Bert\n",
        "- GPT, GPT2, GPT3\n"
      ],
      "metadata": {
        "id": "Zr2VJFeHI4k5"
      }
    },
    {
      "cell_type": "markdown",
      "source": [
        "# Tools for Developing LLM Powered Apps\n",
        "---\n",
        "\n",
        "- OpenAI API\n",
        "- HuggingFace API\n",
        "- GEMINI API"
      ],
      "metadata": {
        "id": "a3wTnDBUJpCv"
      }
    },
    {
      "cell_type": "markdown",
      "source": [
        "$\\textbf{LLM Framework}$\n",
        "\n",
        "---\n",
        "\n",
        "- LangChain\n",
        "- ChainLit\n",
        "- LlamaIndex\n",
        "\n",
        "<br>\n",
        "\n",
        "$\\textbf{LLM FineTuning}$\n",
        "  - PEFT\n",
        "  - LORA\n",
        "\n",
        "\n",
        "$\\textbf{Vector DataBases: }$ These are specialized data management systems designed to handle high-dimensional vector representations of data. These vectors, often used in AI and machine learning applications, represent complex data structures like text, images, audio, and more. Vector databases are optimized for storing, indexing, and querying these vectors efficiently, enabling fast and accurate similarity searches.\n",
        "\n",
        "$\\textbf{WebApps Creation}$\n",
        "\n",
        "$\\textbf{Deployment}$\n"
      ],
      "metadata": {
        "id": "Ng0-I8UfKCv0"
      }
    },
    {
      "cell_type": "markdown",
      "source": [
        "# Notes\n",
        "\n",
        "1. **Uncertainty** in generative AI models means that the results they produce has a lot of variance and are not always predictable. This uncertainty comes from factors like imperfect data, the complexity of the models themselves, and the nature of the tasks they perform.\n",
        "\n",
        " To handle this uncertainty, techniques like using multiple models together (ensemble methods), estimating probabilities, and adjusting predictions are used. Managing uncertainty is important to make sure generative AI models can be trusted to give accurate and reliable results in practical uses.\n",
        "\n",
        "\n",
        "\n",
        "\n",
        "\n",
        "\n"
      ],
      "metadata": {
        "id": "aa_y__mHTczH"
      }
    },
    {
      "cell_type": "markdown",
      "source": [
        "Hugging Face Transformers"
      ],
      "metadata": {
        "id": "o072yvnEWul8"
      }
    },
    {
      "cell_type": "code",
      "source": [],
      "metadata": {
        "id": "tDKZT9CHJy5K"
      },
      "execution_count": null,
      "outputs": []
    }
  ]
}